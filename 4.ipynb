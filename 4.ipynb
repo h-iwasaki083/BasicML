{
  "nbformat": 4,
  "nbformat_minor": 0,
  "metadata": {
    "colab": {
      "provenance": [],
      "authorship_tag": "ABX9TyP26Dbfm6ffJiJN9H4+fKwj"
    },
    "kernelspec": {
      "name": "python3",
      "display_name": "Python 3"
    },
    "language_info": {
      "name": "python"
    }
  },
  "cells": [
    {
      "cell_type": "code",
      "execution_count": 1,
      "metadata": {
        "id": "Qk3QcQxV0kHZ"
      },
      "outputs": [],
      "source": [
        "# p92~\n",
        "# 4-2 Pandas超入門\n",
        "import pandas as pd"
      ]
    }
  ]
}